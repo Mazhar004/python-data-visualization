{
 "cells": [
  {
   "cell_type": "code",
   "execution_count": 1,
   "metadata": {
    "ExecuteTime": {
     "end_time": "2020-07-30T15:23:50.371949Z",
     "start_time": "2020-07-30T15:23:48.914711Z"
    }
   },
   "outputs": [],
   "source": [
    "# Relevant Library\n",
    "import os\n",
    "from datetime import datetime\n",
    "\n",
    "# Numerical Data Process\n",
    "import pandas as pd\n",
    "\n",
    "# Visulize\n",
    "import matplotlib.pyplot as plt\n",
    "from wordcloud import WordCloud, STOPWORDS\n",
    "\n",
    "# Custom Library\n",
    "from library.stat_data_extract import stat_data_extract"
   ]
  },
  {
   "cell_type": "code",
   "execution_count": 2,
   "metadata": {
    "ExecuteTime": {
     "end_time": "2020-07-30T15:23:50.434416Z",
     "start_time": "2020-07-30T15:23:50.371949Z"
    }
   },
   "outputs": [],
   "source": [
    "class CovidBar():\n",
    "    def __init__(self, threshold=0):\n",
    "        self.main_data = stat_data_extract(threshold)\n",
    "        os.makedirs('Images', exist_ok=True)\n",
    "\n",
    "    def show_wordcloud(self, save=True):\n",
    "        stopwords = set(STOPWORDS)\n",
    "        data = {i: j for i, j in zip(\n",
    "            self.main_data.index, self.main_data.ac_active)}\n",
    "\n",
    "        wordcloud = WordCloud(\n",
    "            background_color='white',\n",
    "            stopwords=stopwords,\n",
    "            max_words=len(data),\n",
    "            max_font_size=80,\n",
    "            scale=3,\n",
    "            random_state=200\n",
    "        ).generate_from_frequencies(data).recolor(random_state=63008)\n",
    "\n",
    "        plt.figure(figsize=(16, 8), facecolor='white', edgecolor='blue')\n",
    "        plt.title('Active patient of COVID-19 Until ' +\n",
    "                  self.main_data.Date[0], fontsize=25)\n",
    "        plt.axis('off')\n",
    "        plt.tight_layout(pad=0)\n",
    "        plt.imshow(wordcloud)\n",
    "        if save:\n",
    "            plt.savefig('Images/Corona Stats Country wise.png')\n",
    "        plt.imshow(wordcloud)\n",
    "\n",
    "    def data_plot(self, row=10, save=True):\n",
    "        fig = plt.figure(figsize=(16, 8))\n",
    "        ax = fig.add_subplot(111)\n",
    "\n",
    "        new_data = self.main_data.sort_values(\n",
    "            by=['total_case'], ascending=False)[:row]\n",
    "\n",
    "        plt.bar(new_data.index.values, new_data.c_recover,\n",
    "                color='limegreen', edgecolor='white', label='Recover')\n",
    "        plt.bar(new_data.index.values, new_data.c_active, bottom=new_data.c_recover,\n",
    "                color='darkorange', edgecolor='white', label='Active')\n",
    "        plt.bar(new_data.index.values, new_data.c_death, bottom=new_data.c_recover +\n",
    "                new_data.c_active, color='crimson', edgecolor='white', label='Death')\n",
    "\n",
    "        plt.xlabel(\"Country Name\", fontsize=25)\n",
    "        plt.ylabel('Patient Number in Percentage', fontsize=25)\n",
    "        plt.title('Effect of COVID-19 Country Wise Until ' +\n",
    "                  new_data.Date[0], fontsize=25)\n",
    "\n",
    "        ax.set_yticklabels([0, 20, 40, 60, 80, 100])\n",
    "        xtickNames = ax.set_xticklabels(new_data.index.values)\n",
    "\n",
    "        ax.legend(fontsize=15, loc='lower left')\n",
    "\n",
    "        plt.setp(xtickNames, rotation=30, fontsize=15)\n",
    "        if save:\n",
    "            plt.savefig('Images/Corona.png')\n",
    "        plt.show()\n",
    "\n",
    "    def data_bar(self, row=10, index=1, save=True):\n",
    "\n",
    "        index -= 1\n",
    "\n",
    "        column_val = [i for i in self.main_data.columns[-4:-1]]\n",
    "\n",
    "        name = column_val[index]\n",
    "        if 'w_' in name:\n",
    "            label = 'World Wise '+name.split('_')[-1].capitalize()\n",
    "        else:\n",
    "            label = 'Country Wise '+name.split('_')[-1].capitalize()\n",
    "\n",
    "        new_data = self.main_data.sort_values(by=[name], ascending=False)\n",
    "\n",
    "        new_data = new_data[:row]\n",
    "        color = ['limegreen', 'darkorange', 'crimson']\n",
    "\n",
    "        fig = plt.figure(figsize=(16, 8))\n",
    "        ax = fig.add_subplot(111)\n",
    "        plt.bar(new_data.index.values, new_data[name],\n",
    "                color=color[index % 3], edgecolor='white', label=label)\n",
    "\n",
    "        for i, j in enumerate(new_data[name]):\n",
    "            ax.text(i, j, '{:.2f}%'.format(100*j),\n",
    "                    ha='center', va='bottom', fontsize=15)\n",
    "\n",
    "        plt.xlabel(\"Country Name\", fontsize=25)\n",
    "        plt.ylabel('Patient Number in Percentage', fontsize=25)\n",
    "        plt.title('COVID-19 {} Patient Until {}'.format(label,\n",
    "                                                        new_data.Date[0]), fontsize=25)\n",
    "\n",
    "        ax.set_yticklabels([])\n",
    "        xtickNames = ax.set_xticklabels(new_data.index.values)\n",
    "\n",
    "        ax.legend(fontsize=25, loc='upper right')\n",
    "\n",
    "        plt.setp(xtickNames, rotation=30, fontsize=15)\n",
    "        if save:\n",
    "            plt.savefig('Images/Corona '+label+'.png')\n",
    "\n",
    "        plt.show()"
   ]
  },
  {
   "cell_type": "code",
   "execution_count": 3,
   "metadata": {
    "ExecuteTime": {
     "end_time": "2020-07-30T15:23:56.739470Z",
     "start_time": "2020-07-30T15:23:50.434416Z"
    }
   },
   "outputs": [],
   "source": [
    "bar = CovidBar()"
   ]
  },
  {
   "cell_type": "code",
   "execution_count": null,
   "metadata": {
    "ExecuteTime": {
     "start_time": "2020-07-30T15:23:48.906Z"
    }
   },
   "outputs": [],
   "source": [
    "bar.show_wordcloud()"
   ]
  },
  {
   "cell_type": "code",
   "execution_count": null,
   "metadata": {
    "ExecuteTime": {
     "start_time": "2020-07-30T15:23:48.911Z"
    },
    "scrolled": false
   },
   "outputs": [],
   "source": [
    "bar.data_plot(row=15)"
   ]
  },
  {
   "cell_type": "code",
   "execution_count": null,
   "metadata": {
    "ExecuteTime": {
     "start_time": "2020-07-30T15:23:48.918Z"
    }
   },
   "outputs": [],
   "source": [
    "bar.data_bar(row=15, index=1)"
   ]
  },
  {
   "cell_type": "code",
   "execution_count": null,
   "metadata": {
    "ExecuteTime": {
     "start_time": "2020-07-30T15:23:48.931Z"
    }
   },
   "outputs": [],
   "source": [
    "bar.data_bar(row=15, index=2)"
   ]
  },
  {
   "cell_type": "code",
   "execution_count": null,
   "metadata": {
    "ExecuteTime": {
     "start_time": "2020-07-30T15:23:48.943Z"
    }
   },
   "outputs": [],
   "source": [
    "bar.data_bar(row=15, index=3)"
   ]
  }
 ],
 "metadata": {
  "kernelspec": {
   "display_name": "Python 3",
   "language": "python",
   "name": "python3"
  },
  "language_info": {
   "codemirror_mode": {
    "name": "ipython",
    "version": 3
   },
   "file_extension": ".py",
   "mimetype": "text/x-python",
   "name": "python",
   "nbconvert_exporter": "python",
   "pygments_lexer": "ipython3",
   "version": "3.7.6"
  },
  "varInspector": {
   "cols": {
    "lenName": 16,
    "lenType": 16,
    "lenVar": 40
   },
   "kernels_config": {
    "python": {
     "delete_cmd_postfix": "",
     "delete_cmd_prefix": "del ",
     "library": "var_list.py",
     "varRefreshCmd": "print(var_dic_list())"
    },
    "r": {
     "delete_cmd_postfix": ") ",
     "delete_cmd_prefix": "rm(",
     "library": "var_list.r",
     "varRefreshCmd": "cat(var_dic_list()) "
    }
   },
   "types_to_exclude": [
    "module",
    "function",
    "builtin_function_or_method",
    "instance",
    "_Feature"
   ],
   "window_display": false
  }
 },
 "nbformat": 4,
 "nbformat_minor": 2
}
