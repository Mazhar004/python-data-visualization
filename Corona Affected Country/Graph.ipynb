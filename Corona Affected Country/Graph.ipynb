{
 "cells": [
  {
   "cell_type": "code",
   "execution_count": null,
   "metadata": {
    "ExecuteTime": {
     "start_time": "2020-04-11T04:41:29.940Z"
    }
   },
   "outputs": [],
   "source": [
    "# Relevant Library\n",
    "import os\n",
    "from datetime import datetime\n",
    "\n",
    "# Numerical Data Process\n",
    "import pandas as pd\n",
    "\n",
    "# Visulize\n",
    "import matplotlib.pyplot as plt\n",
    "\n",
    "# Custom Library\n",
    "from library.graph_data_extract import graph_data_extract"
   ]
  },
  {
   "cell_type": "code",
   "execution_count": null,
   "metadata": {
    "ExecuteTime": {
     "start_time": "2020-04-11T04:41:29.949Z"
    }
   },
   "outputs": [],
   "source": [
    "class CovidGraph():\n",
    "    def __init__(self):\n",
    "        self.df = graph_data_extract()\n",
    "        self.cases = ['Confirmed', 'Recovered', 'Death']\n",
    "        self.color = ['limegreen', 'darkorange', 'darkred']\n",
    "        self.time = datetime.now().strftime(\"%d %b,%Y\")\n",
    "        self.font = 15\n",
    "        os.makedirs('Images', exist_ok=True)\n",
    "\n",
    "    def country_stat(self, country='Bangladesh', save=True, threshold=0):\n",
    "        fig = plt.figure(figsize=(16, 8))\n",
    "        ax = fig.add_subplot(111)\n",
    "        plt.grid()\n",
    "\n",
    "        flag = 1\n",
    "        for k, i in enumerate(self.df):\n",
    "            y_val = i.loc[country]\n",
    "            total_len = len(y_val)\n",
    "            if flag:\n",
    "                y_val = y_val[y_val > threshold].values\n",
    "                length = len(y_val)\n",
    "                temp_len = total_len-length\n",
    "                flag = 0\n",
    "            else:\n",
    "                y_val = y_val.values[temp_len:]\n",
    "            plt.plot(range(length), y_val, linewidth=5,\n",
    "                     label='{}'.format(self.cases[k]), color=self.color[k])\n",
    "            plt.scatter(range(length), y_val, linewidth=5, color=self.color[k])\n",
    "\n",
    "        plt.xlabel(\"Day\", fontsize=self.font)\n",
    "        plt.ylabel('Number of people', fontsize=self.font)\n",
    "        plt.title('COVID-19 Cases in {} Untill {}'.format(country,\n",
    "                                                          self.time), fontsize=self.font)\n",
    "        ax.legend(fontsize=self.font, loc='upper left')\n",
    "\n",
    "        if save:\n",
    "            plt.savefig('Images/{} COVID-19 Graph.png'.format(country))\n",
    "        plt.show()\n",
    "\n",
    "    def graph_comparision(self, case='Confirmed', country=['India', 'Pakistan'], save=True, threshold=0):\n",
    "        index = self.cases.index(case)\n",
    "        data = self.df[index]\n",
    "\n",
    "        fig = plt.figure(figsize=(16, 8))\n",
    "        ax = fig.add_subplot(111)\n",
    "        plt.grid()\n",
    "\n",
    "        for i in country:\n",
    "            y_val = data.loc[i]\n",
    "            y_val = y_val[y_val > threshold].values\n",
    "            length = len(y_val)\n",
    "            plt.plot(range(length), y_val, linewidth=5,\n",
    "                     label='{}'.format(i))\n",
    "            plt.scatter(range(length), y_val, linewidth=5)\n",
    "        plt.xlabel(\"Day Number\", fontsize=self.font)\n",
    "        plt.ylabel('{} Cases'.format(case), fontsize=self.font)\n",
    "        plt.title('COVID-19 {} Cases Untill {}'.format(case,\n",
    "                                                       self.time), fontsize=self.font)\n",
    "        ax.legend(fontsize=self.font, loc='upper left')\n",
    "\n",
    "        if save:\n",
    "            plt.savefig(\n",
    "                'Images/COVID-19 {} Cases Comparision Graph in {}.png'.format(case,' '.join(country)))\n",
    "        plt.show()"
   ]
  },
  {
   "cell_type": "code",
   "execution_count": null,
   "metadata": {
    "ExecuteTime": {
     "start_time": "2020-04-11T04:41:29.957Z"
    }
   },
   "outputs": [],
   "source": [
    "graph = CovidGraph()"
   ]
  },
  {
   "cell_type": "code",
   "execution_count": null,
   "metadata": {
    "ExecuteTime": {
     "start_time": "2020-04-11T04:41:29.962Z"
    },
    "scrolled": false
   },
   "outputs": [],
   "source": [
    "graph.graph_comparision('Confirmed', country=[\n",
    "                        'Bangladesh', 'Cambodia', 'Vietnam', 'Sri Lanka'])"
   ]
  },
  {
   "cell_type": "code",
   "execution_count": null,
   "metadata": {
    "ExecuteTime": {
     "start_time": "2020-04-11T04:41:29.970Z"
    }
   },
   "outputs": [],
   "source": [
    "graph.graph_comparision('Death', country=['Italy', 'France', 'US'])"
   ]
  },
  {
   "cell_type": "code",
   "execution_count": null,
   "metadata": {
    "ExecuteTime": {
     "start_time": "2020-04-11T04:41:29.974Z"
    },
    "scrolled": false
   },
   "outputs": [],
   "source": [
    "graph.country_stat('France')"
   ]
  }
 ],
 "metadata": {
  "kernelspec": {
   "display_name": "Python 3",
   "language": "python",
   "name": "python3"
  },
  "language_info": {
   "codemirror_mode": {
    "name": "ipython",
    "version": 3
   },
   "file_extension": ".py",
   "mimetype": "text/x-python",
   "name": "python",
   "nbconvert_exporter": "python",
   "pygments_lexer": "ipython3",
   "version": "3.7.3"
  }
 },
 "nbformat": 4,
 "nbformat_minor": 2
}
