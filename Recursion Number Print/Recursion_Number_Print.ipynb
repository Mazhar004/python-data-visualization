{
 "cells": [
  {
   "cell_type": "code",
   "execution_count": 7,
   "metadata": {},
   "outputs": [
    {
     "name": "stdout",
     "output_type": "stream",
     "text": [
      "Enter the number = 123\n",
      "1 2 3 "
     ]
    }
   ],
   "source": [
    "def recursion_number(n):\n",
    "    '''\n",
    "    n = Number\n",
    "\n",
    "    Print each digit of \"n\" seperately using recursion\n",
    "    '''\n",
    "    if n > 9:\n",
    "        recursion_number(n//10)\n",
    "    print(n % 10, end=\" \")\n",
    "\n",
    "\n",
    "if __name__ == \"__main__\":\n",
    "\n",
    "    n = int(input('Enter the number = '))\n",
    "    recursion_number(n)"
   ]
  }
 ],
 "metadata": {
  "kernelspec": {
   "display_name": "Python 3",
   "language": "python",
   "name": "python3"
  },
  "language_info": {
   "codemirror_mode": {
    "name": "ipython",
    "version": 3
   },
   "file_extension": ".py",
   "mimetype": "text/x-python",
   "name": "python",
   "nbconvert_exporter": "python",
   "pygments_lexer": "ipython3",
   "version": "3.6.8"
  }
 },
 "nbformat": 4,
 "nbformat_minor": 2
}
