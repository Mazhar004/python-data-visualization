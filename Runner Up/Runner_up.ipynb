{
 "cells": [
  {
   "cell_type": "code",
   "execution_count": 17,
   "metadata": {},
   "outputs": [
    {
     "name": "stdout",
     "output_type": "stream",
     "text": [
      "56 23\n"
     ]
    }
   ],
   "source": [
    "def runner_up(a):\n",
    "    a=list(map(int,a.split(' ')))\n",
    "    first,second= (a[0],a[1]) if a[0]>a[1] else (a[1],a[0])\n",
    "    for i in a[2:]:\n",
    "        if i>first:\n",
    "            first,second=i,first\n",
    "        elif i>second:\n",
    "            first,second=first,i\n",
    "    print(first,second)\n",
    "    \n",
    "#a=input('Enter Number=')\n",
    "a='1 3 4 2 56 7 8 23'\n",
    "runner_up(a)"
   ]
  }
 ],
 "metadata": {
  "kernelspec": {
   "display_name": "Python 3",
   "language": "python",
   "name": "python3"
  },
  "language_info": {
   "codemirror_mode": {
    "name": "ipython",
    "version": 3
   },
   "file_extension": ".py",
   "mimetype": "text/x-python",
   "name": "python",
   "nbconvert_exporter": "python",
   "pygments_lexer": "ipython3",
   "version": "3.6.8"
  }
 },
 "nbformat": 4,
 "nbformat_minor": 2
}
