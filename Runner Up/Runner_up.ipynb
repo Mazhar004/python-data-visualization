{
 "cells": [
  {
   "cell_type": "code",
   "execution_count": 5,
   "metadata": {},
   "outputs": [
    {
     "name": "stdout",
     "output_type": "stream",
     "text": [
      "56 23\n"
     ]
    }
   ],
   "source": [
    "def runner_up(n):\n",
    "    '''\n",
    "    n= List of numbers\n",
    "    \n",
    "    runner_up(n):\n",
    "        This function print value of first & second highest from the numbers list \"n\" .\n",
    "\n",
    "    Example:\n",
    "        n      = 1 3 4 2 56 7 8 23\n",
    "        output = 56 23\n",
    "    '''\n",
    "    n = [int(i) for i in n.split(' ')]\n",
    "    first, second = (n[0], n[1]) if n[0] > n[1] else (n[1], n[0])\n",
    "    for i in n[2:]:\n",
    "        if i > first:\n",
    "            first, second = i, first\n",
    "        elif i > second:\n",
    "            first, second = first, i\n",
    "    print(first, second)\n",
    "\n",
    "\n",
    "if __name__ == \"__main__\":\n",
    "\n",
    "    #n = input('Enter space seperated numbers = ')\n",
    "    n = '1 3 4 2 56 7 8 23'\n",
    "    runner_up(n)\n"
   ]
  }
 ],
 "metadata": {
  "kernelspec": {
   "display_name": "Python 3",
   "language": "python",
   "name": "python3"
  },
  "language_info": {
   "codemirror_mode": {
    "name": "ipython",
    "version": 3
   },
   "file_extension": ".py",
   "mimetype": "text/x-python",
   "name": "python",
   "nbconvert_exporter": "python",
   "pygments_lexer": "ipython3",
   "version": "3.6.8"
  }
 },
 "nbformat": 4,
 "nbformat_minor": 2
}
