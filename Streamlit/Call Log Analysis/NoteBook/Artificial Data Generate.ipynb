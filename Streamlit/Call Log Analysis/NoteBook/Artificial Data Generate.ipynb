{
 "cells": [
  {
   "cell_type": "code",
   "execution_count": 1,
   "id": "cc85f96b",
   "metadata": {
    "ExecuteTime": {
     "end_time": "2023-07-13T16:30:40.042784Z",
     "start_time": "2023-07-13T16:30:38.924057Z"
    }
   },
   "outputs": [],
   "source": [
    "import random\n",
    "import pandas as pd\n",
    "from datetime import timedelta"
   ]
  },
  {
   "cell_type": "code",
   "execution_count": 2,
   "id": "780fac48",
   "metadata": {
    "ExecuteTime": {
     "end_time": "2023-07-13T16:30:40.089661Z",
     "start_time": "2023-07-13T16:30:40.042784Z"
    }
   },
   "outputs": [],
   "source": [
    "def dataframe_load(filename):\n",
    "    df = pd.read_csv(filename)\n",
    "    return df\n",
    "\n",
    "\n",
    "filename = 'data/call_history.csv'\n",
    "df = dataframe_load(filename)\n",
    "\n",
    "def single_field_filter(df, key, value):\n",
    "    if key == 'Contact':\n",
    "        bool_list = df['Name'] == df['Address'].astype(str)\n",
    "        if value == 'Saved':\n",
    "            df = df[~bool_list]\n",
    "        else:\n",
    "            df = df[bool_list]\n",
    "\n",
    "    else:\n",
    "        df = df[df[key] == value]\n",
    "    return df\n",
    "\n",
    "\n",
    "def multiple_field_filter(df, field_dict):\n",
    "    '''\n",
    "    # Direction [Incoming or Outgoing]\n",
    "    # Status [Answered or Unanswered or Missed or 'Call Rejected']\n",
    "    # Contact [Saved or Unsaved]\n",
    "    '''\n",
    "    fil_df = df.copy()\n",
    "    for key, value in field_dict.items():\n",
    "        fil_df = single_field_filter(fil_df, key, value)\n",
    "    return fil_df"
   ]
  },
  {
   "cell_type": "code",
   "execution_count": 3,
   "id": "d9bbd0fb",
   "metadata": {
    "ExecuteTime": {
     "end_time": "2023-07-13T16:30:40.227762Z",
     "start_time": "2023-07-13T16:30:40.096167Z"
    }
   },
   "outputs": [],
   "source": [
    "# Consider Only Saved Contacts\n",
    "field_dict = {'Contact': 'Saved'}\n",
    "df = multiple_field_filter(df, field_dict)"
   ]
  },
  {
   "cell_type": "code",
   "execution_count": 4,
   "id": "91484d0b",
   "metadata": {
    "ExecuteTime": {
     "end_time": "2023-07-13T16:30:40.343637Z",
     "start_time": "2023-07-13T16:30:40.227762Z"
    }
   },
   "outputs": [],
   "source": [
    "name_list = list(df.Name.unique())\n",
    "indian_names = ['Aarav', 'Aditi', 'Advait', 'Akshay', 'Amar', 'Amrita', 'Anaya', 'Anika',\n",
    "                'Arjun', 'Aryan', 'Avani', 'Ayush', 'Chetan', 'Devi', 'Dhruv', 'Diya',\n",
    "                'Gaurav', 'Hari', 'Isha', 'Ishita', 'Kabir', 'Kavya', 'Kiran', 'Krishna',\n",
    "                'Lakshmi', 'Manisha', 'Maya', 'Mohit', 'Neha', 'Nikhil', 'Nina', 'Pooja',\n",
    "                'Pranav', 'Rahul', 'Raj', 'Riya', 'Rohan', 'Sahil', 'Sanjay', 'Shreya',\n",
    "                'Siddharth', 'Simran', 'Tanvi', 'Uma', 'Varun', 'Yash', 'Zara']\n",
    "name_dict = dict(zip(name_list,indian_names))\n",
    "df.Name = df.Name.replace(name_dict)"
   ]
  },
  {
   "cell_type": "code",
   "execution_count": 5,
   "id": "29e8ccce",
   "metadata": {
    "ExecuteTime": {
     "end_time": "2023-07-13T16:30:40.490879Z",
     "start_time": "2023-07-13T16:30:40.343637Z"
    }
   },
   "outputs": [],
   "source": [
    "def gen_fake_num(k):\n",
    "    num = list(map(str,range(0,10)))\n",
    "    \n",
    "    fakenum = []\n",
    "    for i in range(k*10):\n",
    "        temp = '+ABC'+''.join(random.choices(num,k=10))\n",
    "        fakenum.append(temp)\n",
    "    \n",
    "    fakenum = list(set(fakenum))[:k]\n",
    "    return fakenum\n",
    "\n",
    "num_list = list(df.Address.unique())\n",
    "fakenum = gen_fake_num(len(num_list))\n",
    "fakenum_dict = dict(zip(num_list,fakenum))\n",
    "df.Address = df.Address.replace(fakenum_dict)"
   ]
  },
  {
   "cell_type": "code",
   "execution_count": 6,
   "id": "2622c1d9",
   "metadata": {
    "ExecuteTime": {
     "end_time": "2023-07-13T16:30:40.613280Z",
     "start_time": "2023-07-13T16:30:40.497386Z"
    }
   },
   "outputs": [],
   "source": [
    "df.to_csv('data/Artifical_Call_Log_Data.csv',index=False)"
   ]
  }
 ],
 "metadata": {
  "kernelspec": {
   "display_name": "Python 3 (ipykernel)",
   "language": "python",
   "name": "python3"
  },
  "language_info": {
   "codemirror_mode": {
    "name": "ipython",
    "version": 3
   },
   "file_extension": ".py",
   "mimetype": "text/x-python",
   "name": "python",
   "nbconvert_exporter": "python",
   "pygments_lexer": "ipython3",
   "version": "3.10.9"
  },
  "varInspector": {
   "cols": {
    "lenName": 16,
    "lenType": 16,
    "lenVar": 40
   },
   "kernels_config": {
    "python": {
     "delete_cmd_postfix": "",
     "delete_cmd_prefix": "del ",
     "library": "var_list.py",
     "varRefreshCmd": "print(var_dic_list())"
    },
    "r": {
     "delete_cmd_postfix": ") ",
     "delete_cmd_prefix": "rm(",
     "library": "var_list.r",
     "varRefreshCmd": "cat(var_dic_list()) "
    }
   },
   "types_to_exclude": [
    "module",
    "function",
    "builtin_function_or_method",
    "instance",
    "_Feature"
   ],
   "window_display": false
  }
 },
 "nbformat": 4,
 "nbformat_minor": 5
}
