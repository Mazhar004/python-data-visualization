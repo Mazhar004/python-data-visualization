{
 "cells": [
  {
   "cell_type": "code",
   "execution_count": 5,
   "metadata": {},
   "outputs": [
    {
     "name": "stdout",
     "output_type": "stream",
     "text": [
      "Enter the string = Hello World\n",
      "dlroW olleH"
     ]
    }
   ],
   "source": [
    "def reverse_string(string, i=0):\n",
    "    '''\n",
    "    String = Input string\n",
    "    i      = It's an optional parameter for counting positioning\n",
    "    String Reverse using recursion\n",
    "    '''\n",
    "    if i < len(string)-1:\n",
    "        reverse_string(string, i+1)\n",
    "    print(string[i], end=\"\")\n",
    "\n",
    "\n",
    "if __name__ == \"__main__\":\n",
    "\n",
    "    string = input('Enter the string = ')\n",
    "    reverse_string(string)\n"
   ]
  }
 ],
 "metadata": {
  "kernelspec": {
   "display_name": "Python 3",
   "language": "python",
   "name": "python3"
  },
  "language_info": {
   "codemirror_mode": {
    "name": "ipython",
    "version": 3
   },
   "file_extension": ".py",
   "mimetype": "text/x-python",
   "name": "python",
   "nbconvert_exporter": "python",
   "pygments_lexer": "ipython3",
   "version": "3.6.8"
  }
 },
 "nbformat": 4,
 "nbformat_minor": 2
}
