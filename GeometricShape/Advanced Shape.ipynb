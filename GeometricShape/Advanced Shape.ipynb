{
 "cells": [
  {
   "cell_type": "code",
   "execution_count": 1,
   "metadata": {
    "ExecuteTime": {
     "end_time": "2020-09-29T15:48:44.269140Z",
     "start_time": "2020-09-29T15:48:42.802052Z"
    }
   },
   "outputs": [],
   "source": [
    "import matplotlib.pyplot as plt\n",
    "import numpy as np"
   ]
  },
  {
   "cell_type": "code",
   "execution_count": 2,
   "metadata": {
    "ExecuteTime": {
     "end_time": "2020-09-29T15:48:44.322535Z",
     "start_time": "2020-09-29T15:48:44.269140Z"
    }
   },
   "outputs": [],
   "source": [
    "def rectangle(r=(4, 2), bottom_left=(0, 0)):\n",
    "    s_x, s_y = bottom_left\n",
    "\n",
    "    d_x = np.linspace(s_x, s_x+r[0], 100)\n",
    "    d_y = np.linspace(s_y, s_y+r[1], 100)\n",
    "    val = np.zeros(100)\n",
    "\n",
    "    a = d_x, s_y+val\n",
    "    b = s_x+val, d_y\n",
    "    c = d_x, s_y+val+r[1]\n",
    "    d = s_x+val+r[0], d_y\n",
    "\n",
    "    ax = plt.figure(figsize=(length))\n",
    "    plt.plot(a[0], a[1], c='b')\n",
    "    plt.plot(b[0], b[1], c='b')\n",
    "    plt.plot(c[0], c[1], c='b')\n",
    "    plt.plot(d[0], d[1], c='b', label='Rectangle')\n",
    "    plt.legend()\n",
    "\n",
    "    return ax"
   ]
  },
  {
   "cell_type": "code",
   "execution_count": 3,
   "metadata": {
    "ExecuteTime": {
     "end_time": "2020-09-29T15:48:44.739291Z",
     "start_time": "2020-09-29T15:48:44.322535Z"
    }
   },
   "outputs": [
    {
     "data": {
      "image/png": "[encoded data removed]",
      "text/plain": [
       "<Figure size 576x288 with 1 Axes>"
      ]
     },
     "metadata": {
      "needs_background": "light"
     },
     "output_type": "display_data"
    }
   ],
   "source": [
    "length = (8, 4)\n",
    "bottom_left = (2, 3)\n",
    "rect = rectangle(length, bottom_left)"
   ]
  },
  {
   "cell_type": "code",
   "execution_count": 4,
   "metadata": {
    "ExecuteTime": {
     "end_time": "2020-09-29T15:48:44.754915Z",
     "start_time": "2020-09-29T15:48:44.739291Z"
    }
   },
   "outputs": [],
   "source": [
    "def circle(r=4, center=(0, 0)):\n",
    "    c_x, c_y = center\n",
    "    val_x = np.linspace(c_x-r, c_x+r, 10000)\n",
    "    temp = np.sqrt(r**2-(val_x-c_x)**2)\n",
    "    val_y = np.concatenate([c_y+temp, c_y-temp])\n",
    "    x, y = np.concatenate([val_x, val_x]), val_y\n",
    "    ax = plt.figure(figsize=(6, 6))\n",
    "    plt.scatter(x, y, c='y', label='Circle')\n",
    "    plt.legend()\n",
    "    return ax"
   ]
  },
  {
   "cell_type": "code",
   "execution_count": 5,
   "metadata": {
    "ExecuteTime": {
     "end_time": "2020-09-29T15:48:45.525940Z",
     "start_time": "2020-09-29T15:48:44.754915Z"
    }
   },
   "outputs": [
    {
     "data": {
      "image/png": "[encoded data removed]",
      "text/plain": [
       "<Figure size 432x432 with 1 Axes>"
      ]
     },
     "metadata": {
      "needs_background": "light"
     },
     "output_type": "display_data"
    }
   ],
   "source": [
    "center_cordinate = (2, 4)\n",
    "radius = 8\n",
    "cir = circle(radius, center_cordinate)"
   ]
  }
 ],
 "metadata": {
  "kernelspec": {
   "display_name": "Python 3",
   "language": "python",
   "name": "python3"
  },
  "language_info": {
   "codemirror_mode": {
    "name": "ipython",
    "version": 3
   },
   "file_extension": ".py",
   "mimetype": "text/x-python",
   "name": "python",
   "nbconvert_exporter": "python",
   "pygments_lexer": "ipython3",
   "version": "3.7.6"
  },
  "varInspector": {
   "cols": {
    "lenName": 16,
    "lenType": 16,
    "lenVar": 40
   },
   "kernels_config": {
    "python": {
     "delete_cmd_postfix": "",
     "delete_cmd_prefix": "del ",
     "library": "var_list.py",
     "varRefreshCmd": "print(var_dic_list())"
    },
    "r": {
     "delete_cmd_postfix": ") ",
     "delete_cmd_prefix": "rm(",
     "library": "var_list.r",
     "varRefreshCmd": "cat(var_dic_list()) "
    }
   },
   "types_to_exclude": [
    "module",
    "function",
    "builtin_function_or_method",
    "instance",
    "_Feature"
   ],
   "window_display": false
  }
 },
 "nbformat": 4,
 "nbformat_minor": 4
}
