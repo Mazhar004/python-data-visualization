{
 "cells": [
  {
   "cell_type": "code",
   "execution_count": 4,
   "metadata": {},
   "outputs": [
    {
     "name": "stdout",
     "output_type": "stream",
     "text": [
      "Enter Number of Element for Fibonacci Series10\n",
      "\n",
      "0 1 1 2 3 5 8 13 21 34 \n",
      "\n",
      "0 1 1 2 3 5 8 13 21 34 "
     ]
    }
   ],
   "source": [
    "def fibonacci(n):\n",
    "    print('\\n0',end=' ')\n",
    "    previous=0\n",
    "    current=1\n",
    "    for i in range(n-1):\n",
    "        print(current,end=' ')\n",
    "        previous,current=current,(previous+current)\n",
    "    print('\\n')\n",
    "\n",
    "def fibonacci_recursion(count,previous=0,current=1):\n",
    "    '''Here Previous and Current parameters are optional. So user did not need to input this value'''\n",
    "    if count:\n",
    "        print(previous,end=' ')\n",
    "        fibonacci_recursion(count-1,current,previous+current)\n",
    "\n",
    "        \n",
    "if __name__ == \"__main__\":   \n",
    "    '''Main Function'''\n",
    "    \n",
    "    n=int(input('Enter Number of Element for Fibonacci Series'))\n",
    "    fibonacci(n)\n",
    "    fibonacci_recursion(n)"
   ]
  }
 ],
 "metadata": {
  "kernelspec": {
   "display_name": "Python 3",
   "language": "python",
   "name": "python3"
  },
  "language_info": {
   "codemirror_mode": {
    "name": "ipython",
    "version": 3
   },
   "file_extension": ".py",
   "mimetype": "text/x-python",
   "name": "python",
   "nbconvert_exporter": "python",
   "pygments_lexer": "ipython3",
   "version": "3.6.8"
  }
 },
 "nbformat": 4,
 "nbformat_minor": 2
}
