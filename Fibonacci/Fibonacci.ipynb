{
 "cells": [
  {
   "cell_type": "code",
   "execution_count": 19,
   "metadata": {},
   "outputs": [
    {
     "name": "stdout",
     "output_type": "stream",
     "text": [
      "Enter Number of Element for Fibonacci Series = 10\n",
      "0 1 1 2 3 5 8 13 21 34 "
     ]
    }
   ],
   "source": [
    "def fibonacci(n):\n",
    "    '''\n",
    "        count = Number of value you want to print\n",
    "        \n",
    "        fibonacci(n):\n",
    "            This function return fibonacci series, which has n number of digit.\n",
    "\n",
    "        Example 1 : \n",
    "            count=3\n",
    "            output= 0 1 1\n",
    "\n",
    "        -----------------------\n",
    "\n",
    "        Example 2 :\n",
    "            count=6\n",
    "            output= 0 1 1 2 3 5\n",
    "    '''\n",
    "\n",
    "    previous = 0\n",
    "    current = 1\n",
    "    for _ in range(n):\n",
    "        print(previous, end=' ')\n",
    "        previous, current = current, (previous+current)\n",
    "\n",
    "\n",
    "if __name__ == \"__main__\":\n",
    "\n",
    "    n = int(input('Enter number of element for fibonacci series = '))\n",
    "    fibonacci(n)\n"
   ]
  },
  {
   "cell_type": "code",
   "execution_count": 21,
   "metadata": {},
   "outputs": [
    {
     "name": "stdout",
     "output_type": "stream",
     "text": [
      "Enter Number of Element for Fibonacci Series = 5\n",
      "0 1 1 2 3 "
     ]
    }
   ],
   "source": [
    "def fibonacci_recursion(count, previous=0, current=1):\n",
    "    '''\n",
    "        count = Number of value you want to print\n",
    "        \n",
    "        fibonacci(count, previous=0, current=1):\n",
    "            \n",
    "            Here previous & current parameters are optional. So user did not need to input this value.\n",
    "\n",
    "            This function return fibonacci series, which has n number of digit.\n",
    "\n",
    "        Example 1 : \n",
    "            count=3\n",
    "            output= 0 1 1\n",
    "\n",
    "        -----------------------\n",
    "\n",
    "        Example 2 :\n",
    "            count=6\n",
    "            output= 0 1 1 2 3 5\n",
    "    '''\n",
    "    if count:\n",
    "        print(previous, end=' ')\n",
    "        fibonacci_recursion(count-1, current, previous+current)\n",
    "\n",
    "\n",
    "if __name__ == \"__main__\":\n",
    "\n",
    "    n = int(input('Enter number of element for fibonacci series = '))\n",
    "    fibonacci_recursion(n)\n"
   ]
  }
 ],
 "metadata": {
  "kernelspec": {
   "display_name": "Python 3",
   "language": "python",
   "name": "python3"
  },
  "language_info": {
   "codemirror_mode": {
    "name": "ipython",
    "version": 3
   },
   "file_extension": ".py",
   "mimetype": "text/x-python",
   "name": "python",
   "nbconvert_exporter": "python",
   "pygments_lexer": "ipython3",
   "version": "3.6.8"
  }
 },
 "nbformat": 4,
 "nbformat_minor": 2
}
