{
 "cells": [
  {
   "cell_type": "code",
   "execution_count": 1,
   "metadata": {
    "ExecuteTime": {
     "end_time": "2020-03-14T07:07:27.231775Z",
     "start_time": "2020-03-14T07:07:16.404086Z"
    }
   },
   "outputs": [
    {
     "name": "stdout",
     "output_type": "stream",
     "text": [
      "Input value & maximum =20 100\n",
      "▌████████████████████▬▬▬▬▬▬▬▬▬▬▬▬▬▬▬▬▬▬▬▬▬▬▬▬▬▬▬▬▬▬▬▬▬▬▬▬▬▬▬▬▬▬▬▬▬▬▬▬▬▬▬▬▬▬▬▬▬▬▬▬▬▬▬▬▬▬▬▬▬▬▬▬▬▬▬▬▬▬▬▬ ▌20%\n",
      "\n"
     ]
    }
   ],
   "source": [
    "from time import sleep\n",
    "\n",
    "\n",
    "def progress_bar(value, maximum):\n",
    "    value = int((value/maximum)*100)\n",
    "    for i in range(1, value+1):\n",
    "        sleep(.3)\n",
    "        rightmost, leftmost, inchar, emptychar, width = \"▌\", \" ▌\", \"█\", '▬', 100\n",
    "        print(rightmost+inchar*i+emptychar*(width-i) +\n",
    "              leftmost+str(int((i/width)*100))+\"%\", end=\"\\r\")\n",
    "    print(\"\\n\")\n",
    "\n",
    "\n",
    "if __name__ == '__main__':\n",
    "    value, maximum = map(int, input(\"Input value & maximum =\").split(' '))\n",
    "    progress_bar(value, maximum)"
   ]
  }
 ],
 "metadata": {
  "kernelspec": {
   "display_name": "Python 3",
   "language": "python",
   "name": "python3"
  },
  "language_info": {
   "codemirror_mode": {
    "name": "ipython",
    "version": 3
   },
   "file_extension": ".py",
   "mimetype": "text/x-python",
   "name": "python",
   "nbconvert_exporter": "python",
   "pygments_lexer": "ipython3",
   "version": "3.7.3"
  }
 },
 "nbformat": 4,
 "nbformat_minor": 2
}
