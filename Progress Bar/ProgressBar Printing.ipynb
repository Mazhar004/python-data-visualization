{
 "cells": [
  {
   "cell_type": "code",
   "execution_count": 1,
   "metadata": {
    "ExecuteTime": {
     "end_time": "2020-04-12T14:30:35.681723Z",
     "start_time": "2020-04-12T14:30:35.675722Z"
    }
   },
   "outputs": [],
   "source": [
    "from time import sleep"
   ]
  },
  {
   "cell_type": "code",
   "execution_count": 2,
   "metadata": {
    "ExecuteTime": {
     "end_time": "2020-04-12T14:30:35.800703Z",
     "start_time": "2020-04-12T14:30:35.689730Z"
    },
    "scrolled": true
   },
   "outputs": [],
   "source": [
    "def progress_bar(value, maximum):\n",
    "    '''\n",
    "        def progress_bar(value, maximum):\n",
    "            Will print progress bar for data loading status rescaling in percentage.\n",
    "            \n",
    "            value   = Value that will be loaded\n",
    "            maximum = Maximum value for scaling\n",
    "            \n",
    "    '''\n",
    "    value = int((value/maximum)*100)\n",
    "    for i in range(1, value+1):\n",
    "        sleep(.3)\n",
    "        rightbar, leftbar, inchar, emptychar, width = \"▌\", \" ▌\", \"█\", '▬', 100\n",
    "        fill_val = inchar*i\n",
    "        empty_val = emptychar*(width-i)\n",
    "        status = str(int((i/width)*100))\n",
    "        if i == value:\n",
    "            status += \"%  Loaded\"\n",
    "        else:\n",
    "            status += \"% Loading\"\n",
    "        print(rightbar+fill_val+empty_val+leftbar+status, end=\"\\r\")\n",
    "    print(\"\\n\")"
   ]
  },
  {
   "cell_type": "code",
   "execution_count": 3,
   "metadata": {
    "ExecuteTime": {
     "end_time": "2020-04-12T14:31:10.523802Z",
     "start_time": "2020-04-12T14:30:35.803706Z"
    },
    "scrolled": true
   },
   "outputs": [
    {
     "name": "stdout",
     "output_type": "stream",
     "text": [
      "Input value & maximum = 40 200\n",
      "\n",
      "\n",
      "▌████████████████████▬▬▬▬▬▬▬▬▬▬▬▬▬▬▬▬▬▬▬▬▬▬▬▬▬▬▬▬▬▬▬▬▬▬▬▬▬▬▬▬▬▬▬▬▬▬▬▬▬▬▬▬▬▬▬▬▬▬▬▬▬▬▬▬▬▬▬▬▬▬▬▬▬▬▬▬▬▬▬▬ ▌20%  Loaded\n",
      "\n"
     ]
    }
   ],
   "source": [
    "if __name__ == '__main__':\n",
    "    value, maximum = map(int, input(\"Input value & maximum = \").split(' '))\n",
    "    print(\"\\n\")\n",
    "    progress_bar(value, maximum)"
   ]
  }
 ],
 "metadata": {
  "kernelspec": {
   "display_name": "Python 3",
   "language": "python",
   "name": "python3"
  },
  "language_info": {
   "codemirror_mode": {
    "name": "ipython",
    "version": 3
   },
   "file_extension": ".py",
   "mimetype": "text/x-python",
   "name": "python",
   "nbconvert_exporter": "python",
   "pygments_lexer": "ipython3",
   "version": "3.7.3"
  }
 },
 "nbformat": 4,
 "nbformat_minor": 2
}
