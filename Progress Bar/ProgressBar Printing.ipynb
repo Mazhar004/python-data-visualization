{
 "cells": [
  {
   "cell_type": "code",
   "execution_count": 6,
   "metadata": {},
   "outputs": [
    {
     "name": "stdout",
     "output_type": "stream",
     "text": [
      "Input value & range =20 100\n",
      "▌████████████████████▬▬▬▬▬▬▬▬▬▬▬▬▬▬▬▬▬▬▬▬▬▬▬▬▬▬▬▬▬▬▬▬▬▬▬▬▬▬▬▬▬▬▬▬▬▬▬▬▬▬▬▬▬▬▬▬▬▬▬▬▬▬▬▬▬▬▬▬▬▬▬▬▬▬▬▬▬▬▬▬ ▌20%\n",
      "\n"
     ]
    }
   ],
   "source": [
    "from time import sleep\n",
    "\n",
    "\n",
    "def progress_bar(value, maxi):\n",
    "    value = int((value/maxi)*100)\n",
    "    for i in range(1, value+1):\n",
    "        sleep(.3)\n",
    "        rightmost, leftmost, inchar, emptychar, width = \"▌\", \" ▌\", \"█\", '▬', 100\n",
    "        print(rightmost+inchar*i+emptychar*(width-i) +\n",
    "              leftmost+str(int((i/width)*100))+\"%\", end=\"\\r\")\n",
    "    print(\"\\n\")\n",
    "\n",
    "\n",
    "if __name__ == '__main__':\n",
    "    value, rang = map(int, input(\"Input value & range =\").split(' '))\n",
    "    progress_bar(value, rang)\n"
   ]
  },
  {
   "cell_type": "code",
   "execution_count": null,
   "metadata": {},
   "outputs": [],
   "source": []
  }
 ],
 "metadata": {
  "kernelspec": {
   "display_name": "Python 3",
   "language": "python",
   "name": "python3"
  },
  "language_info": {
   "codemirror_mode": {
    "name": "ipython",
    "version": 3
   },
   "file_extension": ".py",
   "mimetype": "text/x-python",
   "name": "python",
   "nbconvert_exporter": "python",
   "pygments_lexer": "ipython3",
   "version": "3.7.3"
  }
 },
 "nbformat": 4,
 "nbformat_minor": 2
}
