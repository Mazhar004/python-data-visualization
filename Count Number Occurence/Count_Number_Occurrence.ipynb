{
 "cells": [
  {
   "cell_type": "code",
   "execution_count": 6,
   "metadata": {},
   "outputs": [
    {
     "name": "stdout",
     "output_type": "stream",
     "text": [
      "2 exist in between 1-10 = 8 time\n",
      "3 exist in between 1-10 = 4 time\n"
     ]
    }
   ],
   "source": [
    "def check(start, end, prime):\n",
    "    '''\n",
    "        start = Starting Value\n",
    "        end   = Ending Value\n",
    "        prime = Prime Number\n",
    "        \n",
    "        def check(start, end, prime):\n",
    "            Check function count the number of occurence of prime number \"prime\" in a given range \"start\" to \"end\"\n",
    "\n",
    "        Example 1:\n",
    "\n",
    "        start = 1\n",
    "        end   = 10\n",
    "        prime = 2\n",
    "                             Occurence of 2\n",
    "        1     = 1                  0\n",
    "        2     = 1*2                1\n",
    "        3     = 1*3                0\n",
    "        4     = 1*2*2              2\n",
    "        5     = 1*5                0\n",
    "        6     = 1*2*3              1\n",
    "        7     = 1*7                0\n",
    "        8     = 1*2*2*2            3\n",
    "        9     = 1*3*3              0\n",
    "        10    = 1*2*5              1\n",
    "\n",
    "        Total =                    8\n",
    "\n",
    "        ------------------------------\n",
    "\n",
    "        Example 2:\n",
    "\n",
    "        start = 1\n",
    "        end   = 10\n",
    "        prime = 3\n",
    "                             Occurence of 3\n",
    "        1     = 1                  0\n",
    "        2     = 1*2                0\n",
    "        3     = 1*3                1\n",
    "        4     = 1*2*2              0\n",
    "        5     = 1*5                0\n",
    "        6     = 1*2*3              1\n",
    "        7     = 1*7                0\n",
    "        8     = 1*2*2*2            0\n",
    "        9     = 1*3*3              2\n",
    "        10    = 1*2*5              0\n",
    "\n",
    "        Total =                    4\n",
    "    '''\n",
    "    count = 0\n",
    "    for i in range(start, end+1):\n",
    "        while True:\n",
    "            if i % prime == 0:\n",
    "                count += 1\n",
    "                i /= prime\n",
    "            else:\n",
    "                break\n",
    "    return '{} exist in between {}-{} = {} time'.format(prime, start, end, count)\n",
    "\n",
    "\n",
    "if __name__ == \"__main__\":\n",
    "    print(check(1, 10, 2))\n",
    "    print(check(1, 10, 3))"
   ]
  }
 ],
 "metadata": {
  "kernelspec": {
   "display_name": "Python 3",
   "language": "python",
   "name": "python3"
  },
  "language_info": {
   "codemirror_mode": {
    "name": "ipython",
    "version": 3
   },
   "file_extension": ".py",
   "mimetype": "text/x-python",
   "name": "python",
   "nbconvert_exporter": "python",
   "pygments_lexer": "ipython3",
   "version": "3.6.8"
  }
 },
 "nbformat": 4,
 "nbformat_minor": 2
}
