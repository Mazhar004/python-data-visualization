{
 "cells": [
  {
   "cell_type": "code",
   "execution_count": 8,
   "metadata": {},
   "outputs": [
    {
     "name": "stdout",
     "output_type": "stream",
     "text": [
      "Its a triangle:\n",
      "         *\n",
      "        ***\n",
      "       *****\n",
      "      *******\n",
      "     *********\n",
      "    ***********\n",
      "   *************\n",
      "  ***************\n",
      " *****************\n",
      "*******************\n"
     ]
    }
   ],
   "source": [
    "def triangle(line):\n",
    "    '''\n",
    "        n = Number of line in this object shape\n",
    "    '''\n",
    "    print('Its a triangle:')\n",
    "    for i in range(1, line+1):\n",
    "        print(' '*(line-i)+'*'*(2*i-1))\n",
    "        \n",
    "triangle(10)"
   ]
  },
  {
   "cell_type": "code",
   "execution_count": 9,
   "metadata": {},
   "outputs": [
    {
     "name": "stdout",
     "output_type": "stream",
     "text": [
      "Its a right triangle:\n",
      "*\n",
      "***\n",
      "*****\n",
      "*******\n",
      "*********\n",
      "***********\n",
      "*************\n",
      "***************\n",
      "*****************\n",
      "*******************\n"
     ]
    }
   ],
   "source": [
    "def right_triangle(line):\n",
    "    '''\n",
    "        n = Number of line in this object shape\n",
    "    '''\n",
    "    print('Its a right triangle:')\n",
    "    for i in range(1, line+1):\n",
    "        print('*'*(2*i-1))\n",
    "        \n",
    "right_triangle(10)"
   ]
  },
  {
   "cell_type": "code",
   "execution_count": 10,
   "metadata": {},
   "outputs": [
    {
     "name": "stdout",
     "output_type": "stream",
     "text": [
      "Its a square:\n",
      "********************\n",
      "*                  *\n",
      "*                  *\n",
      "*                  *\n",
      "*                  *\n",
      "*                  *\n",
      "*                  *\n",
      "*                  *\n",
      "*                  *\n",
      "********************\n"
     ]
    }
   ],
   "source": [
    "def square(line):\n",
    "    '''\n",
    "        n = Number of line in this object shape\n",
    "    '''\n",
    "    if line < 6:\n",
    "        print('Try with a value greater than 5')\n",
    "        return 0\n",
    "    print('Its a square:')\n",
    "    print('*'*line)\n",
    "    for _ in range(1, (line-2)//2):\n",
    "        print('*'+' '*(line-2)+'*')\n",
    "    print('*'*line)\n",
    "    \n",
    "square(20)"
   ]
  },
  {
   "cell_type": "code",
   "execution_count": 11,
   "metadata": {},
   "outputs": [
    {
     "name": "stdout",
     "output_type": "stream",
     "text": [
      "Its a rectangle:\n",
      "****************************************\n",
      "*                                      *\n",
      "*                                      *\n",
      "*                                      *\n",
      "*                                      *\n",
      "*                                      *\n",
      "*                                      *\n",
      "*                                      *\n",
      "*                                      *\n",
      "****************************************\n"
     ]
    }
   ],
   "source": [
    "def rectangle(value):\n",
    "    '''\n",
    "        n = Number of line in this object shape\n",
    "    '''\n",
    "    if value < 6:\n",
    "        print('Try with a value greater than 5')\n",
    "        return 0\n",
    "    print('Its a rectangle:')\n",
    "    print('*'*2*value)\n",
    "    for _ in range(1, (value)//2-1):\n",
    "        print('*'+' '*(2*value-2)+'*')\n",
    "    print('*'*2*value)\n",
    "    \n",
    "rectangle(20)"
   ]
  },
  {
   "cell_type": "code",
   "execution_count": 12,
   "metadata": {},
   "outputs": [
    {
     "name": "stdout",
     "output_type": "stream",
     "text": [
      "Its a crown:\n",
      "*             *             *\n",
      "***          ***          ***\n",
      "*****       *****       *****\n",
      "*******    *******    *******\n",
      "********* ********* *********\n",
      "*****************************\n",
      "*****************************\n",
      "*****************************\n",
      "*****************************\n",
      "*****************************\n"
     ]
    }
   ],
   "source": [
    "def crown(line):\n",
    "    '''\n",
    "        n = Number of line in this object shape\n",
    "    '''\n",
    "    print('Its a crown:')\n",
    "    for i in range(1, line+1):\n",
    "        print('*'*(2*i-1)+' '*(2*line-(2*i-1))+' '*(line-i)+'*' *\n",
    "              (2*i-1)+' '*(line-i)+' '*(2*line-(2*i-1))+'*'*(2*i-1))\n",
    "    for i in range(1, line+1):\n",
    "        print('*'*(2*line*3-1))\n",
    "        \n",
    "crown(5)"
   ]
  }
 ],
 "metadata": {
  "kernelspec": {
   "display_name": "Python 3",
   "language": "python",
   "name": "python3"
  },
  "language_info": {
   "codemirror_mode": {
    "name": "ipython",
    "version": 3
   },
   "file_extension": ".py",
   "mimetype": "text/x-python",
   "name": "python",
   "nbconvert_exporter": "python",
   "pygments_lexer": "ipython3",
   "version": "3.6.8"
  }
 },
 "nbformat": 4,
 "nbformat_minor": 2
}
