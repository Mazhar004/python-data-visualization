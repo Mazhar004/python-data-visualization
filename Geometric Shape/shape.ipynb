{
 "cells": [
  {
   "cell_type": "code",
   "execution_count": 1,
   "metadata": {
    "ExecuteTime": {
     "end_time": "2020-04-14T09:21:30.600343Z",
     "start_time": "2020-04-14T09:21:30.570348Z"
    },
    "scrolled": true
   },
   "outputs": [
    {
     "name": "stdout",
     "output_type": "stream",
     "text": [
      "It's a triangle:\n",
      "         *\n",
      "        ***\n",
      "       *****\n",
      "      *******\n",
      "     *********\n",
      "    ***********\n",
      "   *************\n",
      "  ***************\n",
      " *****************\n",
      "*******************\n"
     ]
    }
   ],
   "source": [
    "def triangle(line):\n",
    "    '''\n",
    "        n = Number of line in this object shape\n",
    "        \n",
    "        triangle(line):\n",
    "            Will print a shape of triangle.\n",
    "    '''\n",
    "    print(\"It's a triangle:\")\n",
    "    for i in range(1, line+1):\n",
    "        print(' '*(line-i)+'*'*(2*i-1))\n",
    "        \n",
    "triangle(10)"
   ]
  },
  {
   "cell_type": "code",
   "execution_count": 2,
   "metadata": {
    "ExecuteTime": {
     "end_time": "2020-04-14T09:21:30.753320Z",
     "start_time": "2020-04-14T09:21:30.605341Z"
    }
   },
   "outputs": [
    {
     "name": "stdout",
     "output_type": "stream",
     "text": [
      "It's a right triangle:\n",
      "*\n",
      "***\n",
      "*****\n",
      "*******\n",
      "*********\n",
      "***********\n",
      "*************\n",
      "***************\n",
      "*****************\n",
      "*******************\n"
     ]
    }
   ],
   "source": [
    "def right_triangle(line):\n",
    "    '''\n",
    "        n = Number of line in this object shape\n",
    "\n",
    "        right_triangle(line):\n",
    "            Will print a shape of right triangle.\n",
    "    '''\n",
    "    print(\"It's a right triangle:\")\n",
    "    for i in range(1, line+1):\n",
    "        print('*'*(2*i-1))\n",
    "        \n",
    "right_triangle(10)"
   ]
  },
  {
   "cell_type": "code",
   "execution_count": 3,
   "metadata": {
    "ExecuteTime": {
     "end_time": "2020-04-14T09:21:30.878298Z",
     "start_time": "2020-04-14T09:21:30.760318Z"
    }
   },
   "outputs": [
    {
     "name": "stdout",
     "output_type": "stream",
     "text": [
      "It's a square:\n",
      "********************\n",
      "*                  *\n",
      "*                  *\n",
      "*                  *\n",
      "*                  *\n",
      "*                  *\n",
      "*                  *\n",
      "*                  *\n",
      "*                  *\n",
      "********************\n"
     ]
    }
   ],
   "source": [
    "def square(line):\n",
    "    '''\n",
    "        n = Number of line in this object shape\n",
    "\n",
    "        square(line):\n",
    "            Will print a shape of square.\n",
    "    '''\n",
    "    if line < 6:\n",
    "        print('Try with a value greater than 5')\n",
    "        return 0\n",
    "    print(\"It's a square:\")\n",
    "    print('*'*line)\n",
    "    for _ in range(1, (line-2)//2):\n",
    "        print('*'+' '*(line-2)+'*')\n",
    "    print('*'*line)\n",
    "    \n",
    "square(20)"
   ]
  },
  {
   "cell_type": "code",
   "execution_count": 4,
   "metadata": {
    "ExecuteTime": {
     "end_time": "2020-04-14T09:21:30.997280Z",
     "start_time": "2020-04-14T09:21:30.883297Z"
    }
   },
   "outputs": [
    {
     "name": "stdout",
     "output_type": "stream",
     "text": [
      "It's a rectangle:\n",
      "****************************************\n",
      "*                                      *\n",
      "*                                      *\n",
      "*                                      *\n",
      "*                                      *\n",
      "*                                      *\n",
      "*                                      *\n",
      "*                                      *\n",
      "*                                      *\n",
      "****************************************\n"
     ]
    }
   ],
   "source": [
    "def rectangle(value):\n",
    "    '''\n",
    "        n = Number of line in this object shape\n",
    "\n",
    "        rectangle(line):\n",
    "            Will print a shape of rectangle.\n",
    "    '''\n",
    "    if value < 6:\n",
    "        print('Try with a value greater than 5')\n",
    "        return 0\n",
    "    print(\"It's a rectangle:\")\n",
    "    print('*'*2*value)\n",
    "    for _ in range(1, (value)//2-1):\n",
    "        print('*'+' '*(2*value-2)+'*')\n",
    "    print('*'*2*value)\n",
    "    \n",
    "rectangle(20)"
   ]
  },
  {
   "cell_type": "code",
   "execution_count": 5,
   "metadata": {
    "ExecuteTime": {
     "end_time": "2020-04-14T09:21:31.134258Z",
     "start_time": "2020-04-14T09:21:31.003279Z"
    }
   },
   "outputs": [
    {
     "name": "stdout",
     "output_type": "stream",
     "text": [
      "It's a crown:\n",
      "*             *             *\n",
      "***          ***          ***\n",
      "*****       *****       *****\n",
      "*******    *******    *******\n",
      "********* ********* *********\n",
      "*****************************\n",
      "*****************************\n",
      "*****************************\n",
      "*****************************\n",
      "*****************************\n"
     ]
    }
   ],
   "source": [
    "def crown(line):\n",
    "    '''\n",
    "        n = Number of line in this object shape\n",
    "\n",
    "        crown(line):\n",
    "            Will print a shape of crown.\n",
    "    '''\n",
    "    print(\"It's a crown:\")\n",
    "    for i in range(1, line+1):\n",
    "        print('*'*(2*i-1)+' '*(2*line-(2*i-1))+' '*(line-i)+'*' * (2*i-1)+' '*(line-i)+' '*(2*line-(2*i-1))+'*'*(2*i-1))\n",
    "    for i in range(1, line+1):\n",
    "        print('*'*(2*line*3-1))\n",
    "        \n",
    "crown(5)"
   ]
  }
 ],
 "metadata": {
  "kernelspec": {
   "display_name": "Python 3",
   "language": "python",
   "name": "python3"
  },
  "language_info": {
   "codemirror_mode": {
    "name": "ipython",
    "version": 3
   },
   "file_extension": ".py",
   "mimetype": "text/x-python",
   "name": "python",
   "nbconvert_exporter": "python",
   "pygments_lexer": "ipython3",
   "version": "3.7.3"
  }
 },
 "nbformat": 4,
 "nbformat_minor": 2
}
